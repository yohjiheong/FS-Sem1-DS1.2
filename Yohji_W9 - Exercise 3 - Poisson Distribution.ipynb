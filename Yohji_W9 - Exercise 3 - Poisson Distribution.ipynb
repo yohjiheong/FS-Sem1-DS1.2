{
 "cells": [
  {
   "cell_type": "markdown",
   "metadata": {},
   "source": [
    "# Poisson Distribution\n",
    "\n",
    "A Poisson Distribution gives the probability of an event happening based on an average occurrence of that event over a period of time or a large volume.\n",
    "\n",
    "<img src=\"https://upload.wikimedia.org/wikipedia/commons/thumb/1/16/Poisson_pmf.svg/1920px-Poisson_pmf.svg.png\" width=400>\n",
    "\n",
    "The formula for a poisson distribution is:\n",
    "\n",
    "$$P(X;λ)=\\frac{e^{−λ}λ^X}{X!}$$\n",
    "\n",
    "- **lambda** is the mean occurrence of that event.\n",
    "- **$e$** is a constant = 2.7183."
   ]
  },
  {
   "cell_type": "code",
   "execution_count": 4,
   "metadata": {},
   "outputs": [],
   "source": [
    "# Slide 23 Poisson Distribution"
   ]
  },
  {
   "cell_type": "code",
   "execution_count": 24,
   "metadata": {},
   "outputs": [],
   "source": [
    "from scipy.stats import poisson\n",
    "import numpy as np\n",
    "from scipy.stats import binom\n",
    "import matplotlib.pyplot as plt\n",
    "import pandas as pd"
   ]
  },
  {
   "cell_type": "markdown",
   "metadata": {},
   "source": [
    "## Question 1\n",
    "\n",
    "Suppose a baseball player has a p=.300 batting average. What is the probability of:\n",
    "\n",
    "- P(X<=150) hits in n=500 at bats\n",
    "- P(X=150)\n",
    "- P(X>150)"
   ]
  },
  {
   "cell_type": "code",
   "execution_count": 20,
   "metadata": {},
   "outputs": [
    {
     "data": {
      "text/plain": [
       "0.5216971797074769"
      ]
     },
     "execution_count": 20,
     "metadata": {},
     "output_type": "execute_result"
    }
   ],
   "source": [
    "# P(X<=150)\n",
    "\n",
    "mean = 0.3*500\n",
    "sum(poisson.pmf((np.arange(0,151)),mean))\n",
    "(poisson.cdf(150,mean))"
   ]
  },
  {
   "cell_type": "code",
   "execution_count": 21,
   "metadata": {},
   "outputs": [
    {
     "data": {
      "text/plain": [
       "0.03255540945683085"
      ]
     },
     "execution_count": 21,
     "metadata": {},
     "output_type": "execute_result"
    }
   ],
   "source": [
    "# P(X=150)\n",
    "\n",
    "poisson.pmf(150,mean)"
   ]
  },
  {
   "cell_type": "code",
   "execution_count": 14,
   "metadata": {},
   "outputs": [
    {
     "data": {
      "text/plain": [
       "0.47830282029252313"
      ]
     },
     "execution_count": 14,
     "metadata": {},
     "output_type": "execute_result"
    }
   ],
   "source": [
    "# P(X>150)\n",
    "\n",
    "poisson.sf(150,mean)"
   ]
  },
  {
   "cell_type": "markdown",
   "metadata": {},
   "source": [
    "## Question 2\n",
    "\n",
    "What is the probability of making 2 to 4 sales in a week if the average sales rate is 3 per week?"
   ]
  },
  {
   "cell_type": "code",
   "execution_count": 3,
   "metadata": {},
   "outputs": [
    {
     "data": {
      "text/plain": [
       "0.6161149710523164"
      ]
     },
     "execution_count": 3,
     "metadata": {},
     "output_type": "execute_result"
    }
   ],
   "source": [
    "(sum(poisson.pmf(np.arange(2,5),3)))"
   ]
  },
  {
   "cell_type": "markdown",
   "metadata": {},
   "source": [
    "## Question 3\n",
    "\n",
    "Patients arrive at hospital accident and emergency department at random at a rate of 6 per hour\n",
    "\n",
    "Find the probability that during any 90 minute period, the number of patients arriving at the hopistal accident and emergency department is:\n",
    "\n",
    "- exactly 7\n",
    "- at least 10"
   ]
  },
  {
   "cell_type": "code",
   "execution_count": 27,
   "metadata": {
    "scrolled": false
   },
   "outputs": [
    {
     "data": {
      "text/plain": [
       "0.1171161244529091"
      ]
     },
     "execution_count": 27,
     "metadata": {},
     "output_type": "execute_result"
    }
   ],
   "source": [
    "poisson.pmf(7,9)"
   ]
  },
  {
   "cell_type": "code",
   "execution_count": 7,
   "metadata": {},
   "outputs": [
    {
     "data": {
      "text/plain": [
       "0.4125917556680583"
      ]
     },
     "execution_count": 7,
     "metadata": {},
     "output_type": "execute_result"
    }
   ],
   "source": [
    "poisson.sf(9,9)"
   ]
  },
  {
   "cell_type": "markdown",
   "metadata": {},
   "source": [
    "## Question 4\n",
    "\n",
    "What is the distribution of successes from a sample of n = 50 when the probability of success is p = 0.03 for both binomial and poisson distributions. Plot the barplot to visualize."
   ]
  },
  {
   "cell_type": "code",
   "execution_count": 6,
   "metadata": {},
   "outputs": [
    {
     "data": {
      "text/plain": [
       "1.5"
      ]
     },
     "execution_count": 6,
     "metadata": {},
     "output_type": "execute_result"
    }
   ],
   "source": [
    "n = 50\n",
    "p = 0.03\n",
    "mean = n*p\n",
    "mean"
   ]
  },
  {
   "cell_type": "code",
   "execution_count": 8,
   "metadata": {
    "scrolled": true
   },
   "outputs": [
    {
     "name": "stdout",
     "output_type": "stream",
     "text": [
      "51\n",
      "[0.21806537534740758, 0.3372144979599111, 0.2555182020624037, 0.126441996896857, 0.045949282377467385, 0.0130742288001861, 0.0030326819381876315, 0.0005895640881307254, 9.800743217637195e-05, 1.4145402582156552e-05, 1.7936953789744704e-06, 2.0172769023143394e-07, 2.0276752368623346e-08, 1.8331084615567982e-09, 1.4983434405949713e-10, 1.1121724507509181e-11, 7.524362585621589e-13, 4.6542448983225306e-14, 2.63900483925509e-15, 1.3746308441046566e-16, 6.589725180501663e-18, 2.9115133345368597e-19, 1.186980600303195e-20, 4.469133591459889e-22, 1.5549820485749527e-23, 5.001591743869918e-25, 1.4873885043229258e-26, 4.089040561712573e-28, 1.0388210558106084e-29, 2.4373334405795292e-31, 5.27670126311022e-33, 1.0528835243984566e-34, 1.9334523482832563e-36, 3.261681562239733e-38, 5.043837467381117e-40, 7.131198775678653e-42, 9.189689143915715e-44, 1.0754163946627936e-45, 1.1378523980425176e-47, 1.082809577835894e-49, 9.209462904274144e-52, 6.947042673578793e-54, 4.604078355096428e-56, 2.6491939708058768e-58, 1.3034928160010186e-60, 5.375228107220422e-63, 1.807001828962591e-65, 4.756311021616639e-68, 9.193900170651088e-71, 1.1606017467684973e-73, 7.178979876918419e-77]\n",
      "\n",
      "\n",
      "51\n",
      "[2.23130160e-01 3.34695240e-01 2.51021430e-01 1.25510715e-01\n",
      " 4.70665182e-02 1.41199554e-02 3.52998886e-03 7.56426185e-04\n",
      " 1.41829910e-04 2.36383183e-05 3.54574774e-06 4.83511056e-07\n",
      " 6.04388819e-08 6.97371715e-09 7.47183980e-10 7.47183980e-11\n",
      " 7.00484981e-12 6.18074983e-13 5.15062486e-14 4.06628279e-15\n",
      " 3.04971209e-16 2.17836578e-17 1.48524939e-18 9.68640909e-20\n",
      " 6.05400568e-21 3.63240341e-22 2.09561735e-23 1.16423186e-24\n",
      " 6.23695640e-26 3.22601193e-27 1.61300597e-28 7.80486758e-30\n",
      " 3.65853168e-31 1.66296894e-32 7.33662770e-34 3.14426901e-35\n",
      " 1.31011209e-36 5.31126522e-38 2.09655206e-39 8.06366178e-41\n",
      " 3.02387317e-42 1.10629506e-43 3.95105379e-45 1.37827458e-46\n",
      " 4.69866333e-48 1.56622111e-49 5.10724275e-51 1.62997109e-52\n",
      " 5.09365966e-54 1.55928357e-55 4.67785071e-57]\n"
     ]
    }
   ],
   "source": [
    "# For Binomial distribution\n",
    "r_val = list(range(n + 1))\n",
    "\n",
    "x = ([binom.pmf(r, n, p) for r in r_val])\n",
    "x\n",
    "print (len(x))\n",
    "print (x)\n",
    "\n",
    "print ('\\n')\n",
    "\n",
    "# For Poisson distribution\n",
    "y = poisson.pmf(np.arange(0,51),mean)\n",
    "print (len(y))\n",
    "print (y)"
   ]
  },
  {
   "cell_type": "code",
   "execution_count": 11,
   "metadata": {
    "scrolled": true
   },
   "outputs": [
    {
     "data": {
      "text/plain": [
       "<AxesSubplot:>"
      ]
     },
     "execution_count": 11,
     "metadata": {},
     "output_type": "execute_result"
    },
    {
     "data": {
      "image/png": "[encoded data removed]",
      "text/plain": [
       "<Figure size 432x288 with 1 Axes>"
      ]
     },
     "metadata": {
      "needs_background": "light"
     },
     "output_type": "display_data"
    }
   ],
   "source": [
    "df = pd.DataFrame({'Binomial':x,'Poisson':y})\n",
    "df\n",
    "\n",
    "df[:11].plot(kind='bar')"
   ]
  },
  {
   "cell_type": "markdown",
   "metadata": {},
   "source": [
    "## Question 5\n",
    "\n",
    "Suppose the probability that a drug produces a certain side effect is p = 0.1% and n = 1,000 patients in a clinical trial receive the drug. What is the probability 0 people experience the side effect?"
   ]
  },
  {
   "cell_type": "code",
   "execution_count": 15,
   "metadata": {},
   "outputs": [
    {
     "data": {
      "text/plain": [
       "0.36787944117144233"
      ]
     },
     "execution_count": 15,
     "metadata": {},
     "output_type": "execute_result"
    }
   ],
   "source": [
    "np = 0.001*1000\n",
    "poisson.pmf(0,np)"
   ]
  },
  {
   "cell_type": "markdown",
   "metadata": {},
   "source": [
    "## Question 6\n",
    "\n",
    "If there are twelve cars crossing a bridge per minute on average, find the probability of having eighteen or more cars crossing the bridge in a particular minute."
   ]
  },
  {
   "cell_type": "code",
   "execution_count": 8,
   "metadata": {},
   "outputs": [
    {
     "data": {
      "text/plain": [
       "0.06296629677397021"
      ]
     },
     "execution_count": 8,
     "metadata": {},
     "output_type": "execute_result"
    }
   ],
   "source": [
    "np = 12\n",
    "poisson.sf(17,np)"
   ]
  },
  {
   "cell_type": "markdown",
   "metadata": {},
   "source": [
    "## Question 7\n",
    "\n",
    "If a bird flies overhead at an average rate of 1 every 4 hours, what is the probability that at least one bird will fly overhead in the next hour?"
   ]
  },
  {
   "cell_type": "code",
   "execution_count": 12,
   "metadata": {},
   "outputs": [
    {
     "data": {
      "text/plain": [
       "0.026499021160743874"
      ]
     },
     "execution_count": 12,
     "metadata": {},
     "output_type": "execute_result"
    }
   ],
   "source": [
    "np = 1/4\n",
    "1 - poisson.cdf(1,np)"
   ]
  },
  {
   "cell_type": "markdown",
   "metadata": {},
   "source": [
    "## Question 8\n",
    "\n",
    "A New York Times article in 2012 found that on average 24 horses die on US racetracks each week and from 2009 to 2012 and the US logged 5.2 incidents per 1,000 starts. Calculate the probability of getting 30 or more fatalities in one week."
   ]
  },
  {
   "cell_type": "code",
   "execution_count": 17,
   "metadata": {},
   "outputs": [
    {
     "data": {
      "text/plain": [
       "0.13326013538582204"
      ]
     },
     "execution_count": 17,
     "metadata": {},
     "output_type": "execute_result"
    }
   ],
   "source": [
    "x1 = 24\n",
    "\n",
    "four_years_week =  4*52\n",
    "starts_per_week = 1000 / four_years_week\n",
    "probability = 5.2/1000\n",
    "x2 = probability * starts_per_week\n",
    "total_mean = x1 + x2\n",
    "\n",
    "1-poisson.cdf(29, total_mean)"
   ]
  },
  {
   "cell_type": "markdown",
   "metadata": {},
   "source": [
    "## Question 9\n",
    "\n",
    "Continuing from Question 8, calculate the probability that between 0 and 40 horses will die in a week. Plot a scatter plot to visualize it."
   ]
  },
  {
   "cell_type": "code",
   "execution_count": 26,
   "metadata": {},
   "outputs": [
    {
     "data": {
      "text/plain": [
       "Text(0, 0.5, 'P(X)')"
      ]
     },
     "execution_count": 26,
     "metadata": {},
     "output_type": "execute_result"
    },
    {
     "data": {
      "image/png": "[encoded data removed]",
      "text/plain": [
       "<Figure size 432x288 with 1 Axes>"
      ]
     },
     "metadata": {
      "needs_background": "light"
     },
     "output_type": "display_data"
    }
   ],
   "source": [
    "df = pd.DataFrame(poisson.pmf(np.arange(0,41), total_mean))\n",
    "df.rename(columns = {0:'X'},inplace = True)\n",
    "\n",
    "ax = df.reset_index().plot.scatter(x = 'index', y = 'X')\n",
    "ax.set_title(\"Probability N horses die in a week\")\n",
    "ax.set_xlabel(\"X\")\n",
    "ax.set_ylabel(\"P(X)\")"
   ]
  },
  {
   "cell_type": "markdown",
   "metadata": {},
   "source": [
    "## Question 10\n",
    "\n",
    "Based on probability of that 30 or more horses will die in one week, calculate the total number of times in a year that 30 or more horses will die in a year."
   ]
  },
  {
   "cell_type": "code",
   "execution_count": 28,
   "metadata": {},
   "outputs": [
    {
     "data": {
      "text/plain": [
       "1.0"
      ]
     },
     "execution_count": 28,
     "metadata": {},
     "output_type": "execute_result"
    }
   ],
   "source": [
    "x1_year = 24*365/7\n",
    "x2_year = 0.13326013538582204*365/7\n",
    "x_year_total = x1_year + x2_year\n",
    "\n",
    "1 - poisson.cdf(30, x_year_total)"
   ]
  },
  {
   "cell_type": "code",
   "execution_count": 32,
   "metadata": {},
   "outputs": [
    {
     "name": "stdout",
     "output_type": "stream",
     "text": [
      "6.929527040062746 times\n"
     ]
    }
   ],
   "source": [
    "print ( poisson.sf(29, total_mean) * 52 , 'times' )"
   ]
  }
 ],
 "metadata": {
  "kernelspec": {
   "display_name": "Python 3",
   "language": "python",
   "name": "python3"
  },
  "language_info": {
   "codemirror_mode": {
    "name": "ipython",
    "version": 3
   },
   "file_extension": ".py",
   "mimetype": "text/x-python",
   "name": "python",
   "nbconvert_exporter": "python",
   "pygments_lexer": "ipython3",
   "version": "3.9.1"
  }
 },
 "nbformat": 4,
 "nbformat_minor": 4
}
